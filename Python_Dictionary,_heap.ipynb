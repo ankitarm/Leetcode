{
  "nbformat": 4,
  "nbformat_minor": 0,
  "metadata": {
    "colab": {
      "provenance": [],
      "toc_visible": true,
      "authorship_tag": "ABX9TyNiBhDwbjNqc5s2jVi2GDbA",
      "include_colab_link": true
    },
    "kernelspec": {
      "name": "python3",
      "display_name": "Python 3"
    },
    "language_info": {
      "name": "python"
    }
  },
  "cells": [
    {
      "cell_type": "markdown",
      "metadata": {
        "id": "view-in-github",
        "colab_type": "text"
      },
      "source": [
        "<a href=\"https://colab.research.google.com/github/ankitarm/Leetcode/blob/main/Python_Dictionary%2C_heap.ipynb\" target=\"_parent\"><img src=\"https://colab.research.google.com/assets/colab-badge.svg\" alt=\"Open In Colab\"/></a>"
      ]
    },
    {
      "cell_type": "markdown",
      "source": [
        "# Dictionary"
      ],
      "metadata": {
        "id": "RkVNyLacaMb2"
      }
    },
    {
      "cell_type": "code",
      "execution_count": null,
      "metadata": {
        "id": "mcH_aDrKNveH"
      },
      "outputs": [],
      "source": [
        "# Example dictionary - key:value pairs\n",
        "person = {\n",
        "    \"name\": \"Alice\",\n",
        "    \"age\": 30,\n",
        "    \"city\": \"New York\"\n",
        "}\n"
      ]
    },
    {
      "cell_type": "code",
      "source": [
        "#Print the values/elements.\n",
        "#dict[key ]  --- gives value\n",
        "print(person[\"name\"]) # ----gives error if name is not present.\n",
        "\n",
        "#dict.get(key)\n",
        "print(person.get(\"name\"))  # ----doesnt give error if name is not present.\n"
      ],
      "metadata": {
        "colab": {
          "base_uri": "https://localhost:8080/"
        },
        "id": "enrdA28uOGeQ",
        "outputId": "b8c5525f-adb7-4cbe-b472-96d05b32b69f"
      },
      "execution_count": null,
      "outputs": [
        {
          "output_type": "stream",
          "name": "stdout",
          "text": [
            "Alice\n",
            "Alice\n"
          ]
        }
      ]
    },
    {
      "cell_type": "code",
      "source": [
        "#Adding element and updating values/elements.\n",
        "#dict[key] = element/value\n",
        "person[\"name\"] = \"Ankita\"\n",
        "print(person)\n",
        "\n",
        "#adding also same\n",
        "person[\"height\"] = \"5.4\"\n",
        "print(person)"
      ],
      "metadata": {
        "colab": {
          "base_uri": "https://localhost:8080/"
        },
        "id": "O5_hkqQiO2ep",
        "outputId": "14979883-5f7f-4268-98d1-b053c118a315"
      },
      "execution_count": null,
      "outputs": [
        {
          "output_type": "stream",
          "name": "stdout",
          "text": [
            "{'name': 'Ankita', 'age': 30, 'city': 'New York'}\n",
            "{'name': 'Ankita', 'age': 30, 'city': 'New York', 'height': '5.4'}\n"
          ]
        }
      ]
    },
    {
      "cell_type": "code",
      "source": [
        "#deleting pair\n",
        "del person[\"height\"]\n",
        "print(person)"
      ],
      "metadata": {
        "colab": {
          "base_uri": "https://localhost:8080/"
        },
        "id": "9fpOwPGyQCSw",
        "outputId": "e14ad520-758f-4366-fa87-de2bf73de1d4"
      },
      "execution_count": null,
      "outputs": [
        {
          "output_type": "stream",
          "name": "stdout",
          "text": [
            "{'name': 'Ankita', 'age': 30, 'city': 'New York'}\n"
          ]
        }
      ]
    },
    {
      "cell_type": "code",
      "source": [
        "#looping through dict\n",
        "for key in person:\n",
        "  print(key,person[key])"
      ],
      "metadata": {
        "colab": {
          "base_uri": "https://localhost:8080/"
        },
        "id": "T_wmWM_FQPdc",
        "outputId": "b470aac9-bddf-42d5-ab79-0766bbc2ec85"
      },
      "execution_count": null,
      "outputs": [
        {
          "output_type": "stream",
          "name": "stdout",
          "text": [
            "name Ankita\n",
            "age 30\n",
            "city New York\n"
          ]
        }
      ]
    },
    {
      "cell_type": "code",
      "source": [
        "#looping through\n",
        "for key,value in person.items():\n",
        "  print(key,value)"
      ],
      "metadata": {
        "colab": {
          "base_uri": "https://localhost:8080/"
        },
        "id": "-PmosmF0QhTz",
        "outputId": "5f50b182-6070-49c0-aaa2-6030848e2bab"
      },
      "execution_count": null,
      "outputs": [
        {
          "output_type": "stream",
          "name": "stdout",
          "text": [
            "name Ankita\n",
            "age 30\n",
            "city New York\n"
          ]
        }
      ]
    },
    {
      "cell_type": "code",
      "source": [
        "for key in person:\n",
        "  print(key, person.get(key))\n"
      ],
      "metadata": {
        "colab": {
          "base_uri": "https://localhost:8080/"
        },
        "id": "7K-rJqiLQxlX",
        "outputId": "cfd1e1ec-f179-403b-ea68-7992dca7c934"
      },
      "execution_count": null,
      "outputs": [
        {
          "output_type": "stream",
          "name": "stdout",
          "text": [
            "name Ankita\n",
            "age 30\n",
            "city New York\n"
          ]
        }
      ]
    },
    {
      "cell_type": "code",
      "source": [
        "for key in person:\n",
        "  print(key)\n",
        "  print(person.keys())\n",
        "  print(person.values())\n",
        "  print(person.items())\n"
      ],
      "metadata": {
        "colab": {
          "base_uri": "https://localhost:8080/"
        },
        "id": "kMAXWDlNRM3D",
        "outputId": "cd1cc4b8-bf5b-4d09-d713-e752f8129614"
      },
      "execution_count": null,
      "outputs": [
        {
          "output_type": "stream",
          "name": "stdout",
          "text": [
            "name\n",
            "dict_keys(['name', 'age', 'city'])\n",
            "dict_values(['Ankita', 30, 'New York'])\n",
            "dict_items([('name', 'Ankita'), ('age', 30), ('city', 'New York')])\n",
            "age\n",
            "dict_keys(['name', 'age', 'city'])\n",
            "dict_values(['Ankita', 30, 'New York'])\n",
            "dict_items([('name', 'Ankita'), ('age', 30), ('city', 'New York')])\n",
            "city\n",
            "dict_keys(['name', 'age', 'city'])\n",
            "dict_values(['Ankita', 30, 'New York'])\n",
            "dict_items([('name', 'Ankita'), ('age', 30), ('city', 'New York')])\n"
          ]
        }
      ]
    },
    {
      "cell_type": "markdown",
      "source": [
        "Example 1: Count Characters in a String"
      ],
      "metadata": {
        "id": "DzI70SBSN_Kq"
      }
    },
    {
      "cell_type": "code",
      "source": [
        "Input1: \"banana\"\n",
        "#Output: {'b': 1, 'a': 3, 'n': 2}\n",
        "\n",
        "def count_characters(s):\n",
        "    char_count = {}\n",
        "    for char in s:\n",
        "        char_count[char] = char_count.get(char, 0) + 1\n",
        "    return char_count\n",
        "\n",
        "# Test\n",
        "print(count_characters(\"banana\"))\n"
      ],
      "metadata": {
        "colab": {
          "base_uri": "https://localhost:8080/"
        },
        "id": "4ciK-q0lR89R",
        "outputId": "30d92ba5-bdf9-47c3-fcfd-41677ac2869e"
      },
      "execution_count": null,
      "outputs": [
        {
          "output_type": "stream",
          "name": "stdout",
          "text": [
            "{'b': 1, 'a': 3, 'n': 2}\n"
          ]
        }
      ]
    },
    {
      "cell_type": "markdown",
      "source": [
        "Exercise 2: Most Frequent Element"
      ],
      "metadata": {
        "id": "cLk-2HgbSG2y"
      }
    },
    {
      "cell_type": "code",
      "source": [
        "Input2: [1, 3, 1, 3, 2, 1]\n",
        "#Output: 1\n",
        "\n",
        "def most_frequent(nums):\n",
        "    freq = {}\n",
        "    for num in nums:\n",
        "        freq[num] = freq.get(num, 0) + 1\n",
        "\n",
        "    # Find the element with the highest frequency\n",
        "    max_freq = 0\n",
        "    result = None\n",
        "    for num, count in freq.items():\n",
        "        if count > max_freq:\n",
        "            max_freq = count\n",
        "            result = num\n",
        "    return result\n",
        "\n",
        "# Test\n",
        "print(most_frequent([1, 3, 1, 3, 2, 1]))\n"
      ],
      "metadata": {
        "colab": {
          "base_uri": "https://localhost:8080/"
        },
        "id": "WA6BJvG7SKSA",
        "outputId": "6f05574b-367b-4511-f404-1e1481ccaa87"
      },
      "execution_count": null,
      "outputs": [
        {
          "output_type": "stream",
          "name": "stdout",
          "text": [
            "1\n"
          ]
        }
      ]
    },
    {
      "cell_type": "markdown",
      "source": [
        "Exercise 3: Group Words by Length"
      ],
      "metadata": {
        "id": "ubWUsXwLSSnV"
      }
    },
    {
      "cell_type": "code",
      "source": [
        "Input3: [\"cat\", \"dog\", \"apple\", \"hi\", \"run\"]\n",
        "#Output: {3: ['cat', 'dog', 'run'], 5: ['apple'], 2: ['hi']}\n",
        "\n",
        "def group_by_length(words):\n",
        "    length_dict = {}\n",
        "    for word in words:\n",
        "        length = len(word)\n",
        "        if length not in length_dict:\n",
        "            length_dict[length] = []\n",
        "        length_dict[length].append(word)\n",
        "    return length_dict\n",
        "\n",
        "# Test\n",
        "print(group_by_length([\"cat\", \"dog\", \"apple\", \"hi\", \"run\"]))\n"
      ],
      "metadata": {
        "colab": {
          "base_uri": "https://localhost:8080/"
        },
        "id": "wRnLBcg4STjp",
        "outputId": "94f201c9-714c-4c5a-a7ff-466072361d0e"
      },
      "execution_count": null,
      "outputs": [
        {
          "output_type": "stream",
          "name": "stdout",
          "text": [
            "{3: ['cat', 'dog', 'run'], 5: ['apple'], 2: ['hi']}\n"
          ]
        }
      ]
    },
    {
      "cell_type": "markdown",
      "source": [],
      "metadata": {
        "id": "7owUXjFQaF2K"
      }
    },
    {
      "cell_type": "markdown",
      "source": [
        "# Heap"
      ],
      "metadata": {
        "id": "nNQUY1zHaHnK"
      }
    },
    {
      "cell_type": "markdown",
      "source": [
        "🔹 What is a Heap?\n",
        "A heap is a special binary tree-based data structure that satisfies the heap property:\n",
        "\n",
        "Min-Heap: Parent ≤ Children → The smallest element is always at the root.\n",
        "\n",
        "Max-Heap: Parent ≥ Children → The largest element is at the root.\n",
        "\n",
        "In Python, the built-in heapq module implements a min-heap."
      ],
      "metadata": {
        "id": "2FxGt_nhaSW3"
      }
    },
    {
      "cell_type": "markdown",
      "source": [
        "How Does heapq Work?\n",
        "You can use a list as a heap and use the following functions:\n",
        "\n",
        "heapq.heappush(heap, item) → adds item to the heap.\n",
        "\n",
        "heapq.heappop(heap) → removes and returns the smallest item."
      ],
      "metadata": {
        "id": "f27hfSX_acQx"
      }
    },
    {
      "cell_type": "code",
      "source": [
        "# 347. Top K Frequent Elements\n",
        "\n",
        "nums = [1,1,1,2,2,3]\n",
        "k = 2\n",
        "\n",
        "import heapq\n",
        "def topKFrequent( nums, k):\n",
        "        \"\"\"\n",
        "        :type nums: List[int]\n",
        "        :type k: int\n",
        "        :rtype: List[int]\n",
        "        \"\"\"\n",
        "        freqdict = {}\n",
        "        for num in nums:\n",
        "            freqdict[num] = freqdict.get(num,0)+1\n",
        "        print(f'Frequency Dict: {freqdict}')\n",
        "\n",
        "        heap = []\n",
        "        for key, value in freqdict.items():\n",
        "            heapq.heappush(heap,(value, key))\n",
        "            print(f'Adding in heap {heap}')\n",
        "            if len(heap)>k:\n",
        "                heapq.heappop(heap)\n",
        "                print(f'Poping first element in heap {heap}')\n",
        "\n",
        "        return [key for value, key in heap]\n",
        "\n",
        "topKFrequent(nums,k)"
      ],
      "metadata": {
        "colab": {
          "base_uri": "https://localhost:8080/"
        },
        "id": "vdbLrt63StXQ",
        "outputId": "8a12b2be-f6d7-4db9-c475-859e60f83da7"
      },
      "execution_count": null,
      "outputs": [
        {
          "output_type": "stream",
          "name": "stdout",
          "text": [
            "Frequency Dict: {1: 3, 2: 2, 3: 1}\n",
            "Adding in heap [(3, 1)]\n",
            "Adding in heap [(2, 2), (3, 1)]\n",
            "Adding in heap [(1, 3), (3, 1), (2, 2)]\n",
            "Poping first element in heap [(2, 2), (3, 1)]\n"
          ]
        },
        {
          "output_type": "execute_result",
          "data": {
            "text/plain": [
              "[2, 1]"
            ]
          },
          "metadata": {},
          "execution_count": 34
        }
      ]
    },
    {
      "cell_type": "markdown",
      "source": [
        "Max Heap in Python (heapq workaround)\n",
        "\n",
        "Python’s heapq module only supports min-heaps. But we can simulate a max-heap by negating the values.\n",
        "\n",
        "✅ Example: Max Heap Using heapq\n",
        "\n",
        "🔹 Why Negate Values?\n",
        "A min-heap keeps the smallest element at the top.\n",
        "\n",
        "By inserting -num instead of num, the largest original number ends up at the top.\n",
        "\n",
        "When retrieving, negate it again to get the original value."
      ],
      "metadata": {
        "id": "5MvO3LIWfaxT"
      }
    },
    {
      "cell_type": "code",
      "source": [
        "\n",
        "import heapq\n",
        "\n",
        "nums = [5, 3, 8, 1]\n",
        "\n",
        "# Simulate max-heap by pushing negative values\n",
        "max_heap = []\n",
        "for num in nums:\n",
        "    heapq.heappush(max_heap, -num)\n",
        "    print(f'Min heap: {max_heap}')\n",
        "print(f'Heap: {max_heap}')\n",
        "\n",
        "# Pop returns smallest in min-heap, i.e., largest original number\n",
        "print(-heapq.heappop(max_heap))  # Output: 8\n"
      ],
      "metadata": {
        "colab": {
          "base_uri": "https://localhost:8080/"
        },
        "id": "rQTfEZdNckm6",
        "outputId": "c5dd7e04-a026-4da8-b2be-ba21101cbde8"
      },
      "execution_count": null,
      "outputs": [
        {
          "output_type": "stream",
          "name": "stdout",
          "text": [
            "Min heap: [-5]\n",
            "Min heap: [-5, -3]\n",
            "Min heap: [-8, -3, -5]\n",
            "Min heap: [-8, -3, -5, -1]\n",
            "Heap: [-8, -3, -5, -1]\n",
            "8\n"
          ]
        }
      ]
    },
    {
      "cell_type": "code",
      "source": [],
      "metadata": {
        "id": "gBV72a-Ifg8G"
      },
      "execution_count": null,
      "outputs": []
    }
  ]
}